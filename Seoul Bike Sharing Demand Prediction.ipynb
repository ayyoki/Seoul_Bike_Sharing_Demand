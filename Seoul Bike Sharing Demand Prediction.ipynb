{
  "nbformat": 4,
  "nbformat_minor": 0,
  "metadata": {
    "colab": {
      "provenance": [],
      "collapsed_sections": [
        "rbpqvrdslrC8",
        "jQw8IqXVVoun",
        "ERJWBFRcmMRo"
      ],
      "private_outputs": true,
      "gpuType": "T4"
    },
    "kernelspec": {
      "name": "python3",
      "display_name": "Python 3"
    },
    "language_info": {
      "name": "python"
    },
    "accelerator": "GPU"
  },
  "cells": [
    {
      "cell_type": "code",
      "execution_count": null,
      "metadata": {
        "id": "ovbGTJe-z9QM"
      },
      "outputs": [],
      "source": [
        "import pandas as pd\n",
        "import numpy as np\n",
        "from google.colab import drive\n",
        "from numpy import nan as NA\n",
        "import matplotlib.pyplot as plt\n",
        "import seaborn as sns\n",
        "from google.colab import files"
      ]
    },
    {
      "cell_type": "markdown",
      "source": [
        "## Uploading Data Set"
      ],
      "metadata": {
        "id": "rbpqvrdslrC8"
      }
    },
    {
      "cell_type": "code",
      "source": [
        "drive.mount('/content/drive')"
      ],
      "metadata": {
        "id": "nGxm6HbS2S0a"
      },
      "execution_count": null,
      "outputs": []
    },
    {
      "cell_type": "code",
      "source": [
        "import chardet\n",
        "import glob\n",
        "\n",
        "\n",
        "\n",
        "def isItUnicode(filename):\n",
        "    with open(filename, 'rb') as f:\n",
        "        encodingInfo = chardet.detect(f.read())\n",
        "        if \"UTF\" not in encodingInfo['encoding']:\n",
        "            print(\"This isn't Unicode! It's\", encodingInfo['encoding'])\n",
        "        else:\n",
        "            print(\"Yep, it's Unicode.\")"
      ],
      "metadata": {
        "id": "8llOQ37A7Md6"
      },
      "execution_count": null,
      "outputs": []
    },
    {
      "cell_type": "code",
      "source": [
        "isItUnicode('/content/drive/MyDrive/Notebooks/SeoulBikeData.csv')"
      ],
      "metadata": {
        "id": "gKo8ZNBM7PrT"
      },
      "execution_count": null,
      "outputs": []
    },
    {
      "cell_type": "code",
      "source": [
        "df1 = pd.read_csv('/content/drive/MyDrive/Notebooks/SeoulBikeData.csv',encoding='ISO-8859-1')"
      ],
      "metadata": {
        "id": "3HCDhQeJ4-o6"
      },
      "execution_count": null,
      "outputs": []
    },
    {
      "cell_type": "markdown",
      "source": [
        "## Analysis\n"
      ],
      "metadata": {
        "id": "Xxl8hDbfl0xE"
      }
    },
    {
      "cell_type": "code",
      "source": [
        "df1.shape"
      ],
      "metadata": {
        "id": "putz_uFlUVhx"
      },
      "execution_count": null,
      "outputs": []
    },
    {
      "cell_type": "code",
      "source": [
        "df1.describe().T"
      ],
      "metadata": {
        "id": "g7zVCyldVo77"
      },
      "execution_count": null,
      "outputs": []
    },
    {
      "cell_type": "code",
      "source": [
        "df1.tail()"
      ],
      "metadata": {
        "id": "HDYwEY6q6FoA"
      },
      "execution_count": null,
      "outputs": []
    },
    {
      "cell_type": "code",
      "source": [
        "def perc_miss(df):\n",
        "  miss = df.isnull().sum().sort_values(ascending=False)\n",
        "  miss = miss[miss.values != 0]\n",
        "  tt_cels = np.product(df.shape)\n",
        "  tt_missing = miss.sum()\n",
        "\n",
        "  perc = round(((tt_missing/tt_cels) * 100),3)\n",
        "  pr = 'Percent of miss:' + str(perc) + \"%\"\n",
        "  _all = \"In sum:\" + str(tt_missing.sum())\n",
        "\n",
        "  return pr,_all,miss\n",
        "\n"
      ],
      "metadata": {
        "id": "diJXJUD97hqs"
      },
      "execution_count": null,
      "outputs": []
    },
    {
      "cell_type": "code",
      "source": [
        "perc_miss(df1)"
      ],
      "metadata": {
        "id": "dpELrJgQAzBG"
      },
      "execution_count": null,
      "outputs": []
    },
    {
      "cell_type": "code",
      "source": [
        "import missingno as mn\n",
        "mn.matrix(df1,color=(0,0,0))"
      ],
      "metadata": {
        "id": "EGMRxJVUBNng"
      },
      "execution_count": null,
      "outputs": []
    },
    {
      "cell_type": "markdown",
      "source": [
        "As you can see , the data set is clean"
      ],
      "metadata": {
        "id": "2lVHzoxyXG01"
      }
    },
    {
      "cell_type": "code",
      "source": [
        "df1.nunique().sort_values(ascending=False)"
      ],
      "metadata": {
        "id": "NuXgIqfRd71l"
      },
      "execution_count": null,
      "outputs": []
    },
    {
      "cell_type": "code",
      "source": [
        "for i in df1.columns:\n",
        "  print(i,df1[i].unique())\n",
        "  print('--------------')"
      ],
      "metadata": {
        "id": "AP2HVVdWBvCZ"
      },
      "execution_count": null,
      "outputs": []
    },
    {
      "cell_type": "code",
      "source": [
        "def scatt_y(df, y):\n",
        "    df_col = df.drop(y, axis=1).columns\n",
        "    n_cols = len(df_col)\n",
        "\n",
        "\n",
        "    n_rows = (n_cols + 1) // 2\n",
        "    fig, axs = plt.subplots(n_rows, 2, figsize=(14, n_rows * 5))\n",
        "\n",
        "    if n_cols % 2 != 0:\n",
        "        fig.delaxes(axs[-1, -1])\n",
        "\n",
        "\n",
        "    for i, col in enumerate(df_col):\n",
        "        ax = axs[i // 2, i % 2]\n",
        "        ax.scatter(df[col], df[y], marker='o', c=\"pink\")\n",
        "        ax.set_xlabel(col)\n",
        "        ax.set_ylabel(y)\n",
        "\n",
        "    plt.tight_layout()\n",
        "    plt.show()\n"
      ],
      "metadata": {
        "id": "TLI8NUFQFMVo"
      },
      "execution_count": null,
      "outputs": []
    },
    {
      "cell_type": "code",
      "source": [
        "scatt_y(df1,'Rented Bike Count')"
      ],
      "metadata": {
        "id": "L81jz3khLz6p"
      },
      "execution_count": null,
      "outputs": []
    },
    {
      "cell_type": "code",
      "source": [
        "from scipy.stats import norm\n",
        "\n",
        "def all_hist(df):\n",
        "    df_col = df.columns\n",
        "    df_col = [i for i in df_col if df[i].dtype in ['int64', 'float64']]\n",
        "\n",
        "    for i, col in enumerate(df_col):\n",
        "        plt.figure(i)\n",
        "        data = df[col]\n",
        "        data.hist(bins=28, density=True, alpha=0.6, color='g')\n",
        "\n",
        "\n",
        "        mu, std = norm.fit(data)\n",
        "\n",
        "\n",
        "        xmin, xmax = plt.xlim()\n",
        "        x = np.linspace(xmin, xmax, 100)\n",
        "        p = norm.pdf(x, mu, std)\n",
        "\n",
        "        plt.plot(x, p, 'k', linewidth=2)\n",
        "\n",
        "        title = f\"{col}, mu = {mu:.2f},  std = {std:.2f}\"\n",
        "        plt.title(title)\n",
        "\n",
        "        plt.axvline(mu, color='k', linestyle='dashed', linewidth=1)\n",
        "\n",
        "\n",
        "        plt.show()\n"
      ],
      "metadata": {
        "id": "9LSSnA65RVWP"
      },
      "execution_count": null,
      "outputs": []
    },
    {
      "cell_type": "code",
      "source": [
        "\n",
        "all_hist(df1)"
      ],
      "metadata": {
        "id": "XqPikEi4RCTu"
      },
      "execution_count": null,
      "outputs": []
    },
    {
      "cell_type": "markdown",
      "source": [
        "In these graphs we can see a non-normal distribution in some features, but this is not a problem for the decision tree algorithm that we will use in the future"
      ],
      "metadata": {
        "id": "zW5-PDczYHzO"
      }
    },
    {
      "cell_type": "code",
      "source": [
        "col = list(df1.columns)\n",
        "\n",
        "n_cols = 2\n",
        "n_rows = (len(col) + n_cols - 1) // n_cols\n",
        "\n",
        "\n",
        "fig, axes = plt.subplots(nrows=n_rows, ncols=n_cols, figsize=(15, 20))\n",
        "\n",
        "\n",
        "for ax in axes.flatten()[len(col):]:\n",
        "    ax.remove()\n",
        "\n",
        "\n",
        "axes_flat = axes.flatten()\n",
        "\n",
        "for i, column_name in enumerate(col):\n",
        "\n",
        "    sns.boxplot(df1[column_name], ax=axes_flat[i])\n",
        "    axes_flat[i].set_title(column_name)  # Встановлюємо заголовок\n",
        "    axes_flat[i].set_xticklabels(axes_flat[i].get_xticklabels(), rotation=45)  # Повертаємо мітки осей\n",
        "\n",
        "\n",
        "plt.tight_layout()\n",
        "\n"
      ],
      "metadata": {
        "id": "Ezn2UOm6Rp9O"
      },
      "execution_count": null,
      "outputs": []
    },
    {
      "cell_type": "markdown",
      "source": [
        "we will reduce some range in some columns and remove some outliers further"
      ],
      "metadata": {
        "id": "iGTdrB_EYsmQ"
      }
    },
    {
      "cell_type": "code",
      "source": [
        "g = sns.FacetGrid(df1, col=\"Seasons\", col_wrap=2, height=7, aspect=1.5)\n",
        "\n",
        "g.map(sns.barplot, \"Hour\", \"Rented Bike Count\", color='r', order=sorted(df1['Hour'].unique()))\n",
        "\n",
        "g.set_axis_labels(\"Година\", \"Кількість орендованих велосипедів\")\n",
        "g.set_titles(\"{col_name} сезон\")"
      ],
      "metadata": {
        "id": "4z2hkPhnnbY8"
      },
      "execution_count": null,
      "outputs": []
    },
    {
      "cell_type": "markdown",
      "source": [
        "Obviously, there are fewer bike rentals in the winter season"
      ],
      "metadata": {
        "id": "w6EiQfoKZKGS"
      }
    },
    {
      "cell_type": "code",
      "source": [
        "df1.columns"
      ],
      "metadata": {
        "id": "MdBTLci32oc3"
      },
      "execution_count": null,
      "outputs": []
    },
    {
      "cell_type": "code",
      "source": [
        "def temp(x):\n",
        "    if x < 0:\n",
        "        return 0\n",
        "    elif 0 <= x and x < 15:\n",
        "        return 1\n",
        "    elif 15 <= x and x < 25:\n",
        "        return 3\n",
        "    elif 25 <= x:\n",
        "        return 4"
      ],
      "metadata": {
        "id": "8qYS9Vd03nNI"
      },
      "execution_count": null,
      "outputs": []
    },
    {
      "cell_type": "code",
      "source": [
        "def rain_pw(x):\n",
        "    if x <= 0.1:\n",
        "        return 0\n",
        "    elif 0.1 < x and x < 2.5:\n",
        "        return 1\n",
        "    elif 2.5 <= x and x < 7.6:\n",
        "        return 2\n",
        "    elif x >= 7.6:\n",
        "        return 3"
      ],
      "metadata": {
        "id": "PmT12bcA4zt4"
      },
      "execution_count": null,
      "outputs": []
    },
    {
      "cell_type": "code",
      "source": [
        "def wind_pw(x):\n",
        "    if x <= 0.3:\n",
        "        return 0  # без вітра\n",
        "    elif 0.3 < x and x <= 3.4:\n",
        "        return 1  # слабкий\n",
        "    elif 3.4 < x and x <= 8.0:\n",
        "        return 2  # нормальний\n",
        "    elif x > 8.0:\n",
        "        return 3  # сильний"
      ],
      "metadata": {
        "id": "YRzbUy675hyD"
      },
      "execution_count": null,
      "outputs": []
    },
    {
      "cell_type": "code",
      "source": [
        "df1['isTemp'] = df1['Temperature(°C)'].apply(temp)"
      ],
      "metadata": {
        "id": "PraVJjzg2kvU"
      },
      "execution_count": null,
      "outputs": []
    },
    {
      "cell_type": "code",
      "source": [
        "df1['isRain'] = df1['Rainfall(mm)'].apply(rain_pw)"
      ],
      "metadata": {
        "id": "-tspWgu90n0n"
      },
      "execution_count": null,
      "outputs": []
    },
    {
      "cell_type": "code",
      "source": [
        "df1['isHoliday']=df1['Holiday'].map({'Holiday':1,'No Holiday':0})"
      ],
      "metadata": {
        "id": "6d1QYj0m5lB5"
      },
      "execution_count": null,
      "outputs": []
    },
    {
      "cell_type": "code",
      "source": [
        "df1['isSnow'] = df1['Snowfall (cm)'].apply(lambda x: 1 if x > 0.5  else 0)"
      ],
      "metadata": {
        "id": "HiEan9Gt8PCc"
      },
      "execution_count": null,
      "outputs": []
    },
    {
      "cell_type": "code",
      "source": [
        "def barp_hue(x,y,h,data):\n",
        "\tplt.figure(figsize=(11,7))\n",
        "\tsns.barplot(x=x,y=y,hue=h,data=data)"
      ],
      "metadata": {
        "id": "JGJNm4zT9zWm"
      },
      "execution_count": null,
      "outputs": []
    },
    {
      "cell_type": "code",
      "source": [
        "h = ['isTemp','isRain','isHoliday','isSnow']\n",
        "for i in h:\n",
        "\tbarp_hue('Hour','Rented Bike Count',i,df1)"
      ],
      "metadata": {
        "id": "Riz87M599z5E"
      },
      "execution_count": null,
      "outputs": []
    },
    {
      "cell_type": "markdown",
      "source": [
        "After viewing the graphs, it can be assumed that the high air temperature, the absence of rain and the absence of snow have a positive effect on the number of bicycle rentals in the city.\n",
        "\n"
      ],
      "metadata": {
        "id": "gH3p0AVQZ1IW"
      }
    },
    {
      "cell_type": "markdown",
      "source": [
        "It can also be assumed that on non-holidays (which means rather on working days) at six o'clock there is a peak in the number of people renting bicycles (Given the publicly available data that the working day in South Korea ends at 5-6 o'clock in the evening, it can be assumed that people take them in order to get home after work or to other necessary places)."
      ],
      "metadata": {
        "id": "8RWnCNMJbJtS"
      }
    },
    {
      "cell_type": "code",
      "source": [
        "df1.drop(h,inplace=True,axis = 1)"
      ],
      "metadata": {
        "id": "y3DVg51xBjDm"
      },
      "execution_count": null,
      "outputs": []
    },
    {
      "cell_type": "markdown",
      "source": [
        "## FeaturesEngineering\n"
      ],
      "metadata": {
        "id": "jQw8IqXVVoun"
      }
    },
    {
      "cell_type": "markdown",
      "source": [
        "As mentioned earlier we are going to reduce the spread range of some data and remove some outliers, which ones will be shown below"
      ],
      "metadata": {
        "id": "w25Jc0-Bb_wl"
      }
    },
    {
      "cell_type": "code",
      "source": [
        "fig,ax = plt.subplots(figsize=(12,12))\n",
        "\n",
        "ax.scatter(x=df1['Rainfall(mm)'], y=df1['Rented Bike Count'], marker='o')\n",
        "ax.set_xlabel('')\n",
        "ax.set_ylabel('')"
      ],
      "metadata": {
        "id": "OCdwz7Y9sqNK"
      },
      "execution_count": null,
      "outputs": []
    },
    {
      "cell_type": "code",
      "source": [
        "def remove_outliers(df, columns):\n",
        "    def find_outliers(series):\n",
        "        Q1 = series.quantile(0.25)\n",
        "        Q3 = series.quantile(0.75)\n",
        "        IQR = Q3 - Q1\n",
        "        lower_bound = Q1 - 1.5 * IQR\n",
        "        upper_bound = Q3 + 1.5 * IQR\n",
        "        return (series < lower_bound) | (series > upper_bound)\n",
        "\n",
        "    for col in columns:\n",
        "        if col in df.columns:\n",
        "            outliers = find_outliers(df[col])\n",
        "            df = df[~outliers]\n",
        "\n",
        "    return df"
      ],
      "metadata": {
        "id": "jJr_Q4cHhok3"
      },
      "execution_count": null,
      "outputs": []
    },
    {
      "cell_type": "code",
      "source": [
        "df1 = df1[df1['Rainfall(mm)'] <= 20]"
      ],
      "metadata": {
        "id": "ySRUspnQtQxx"
      },
      "execution_count": null,
      "outputs": []
    },
    {
      "cell_type": "code",
      "source": [
        "df1 = df1[df1['Snowfall (cm)'] <= 5.7]"
      ],
      "metadata": {
        "id": "N9fXe80MSaja"
      },
      "execution_count": null,
      "outputs": []
    },
    {
      "cell_type": "code",
      "source": [
        "df1 = remove_outliers(df1,['Solar Radiation (MJ/m2)'])"
      ],
      "metadata": {
        "id": "m_a07fWihdJ9"
      },
      "execution_count": null,
      "outputs": []
    },
    {
      "cell_type": "code",
      "source": [
        "df1.shape"
      ],
      "metadata": {
        "id": "Bx7wANwjUXus"
      },
      "execution_count": null,
      "outputs": []
    },
    {
      "cell_type": "code",
      "source": [
        "df1.head()"
      ],
      "metadata": {
        "id": "rNc_LbaqWRYK"
      },
      "execution_count": null,
      "outputs": []
    },
    {
      "cell_type": "code",
      "source": [
        "df1['Date'] = pd.to_datetime(df1['Date'], format='%d/%m/%Y')\n"
      ],
      "metadata": {
        "id": "QFkTB2fobcEv"
      },
      "execution_count": null,
      "outputs": []
    },
    {
      "cell_type": "code",
      "source": [
        "df1.drop_duplicates()"
      ],
      "metadata": {
        "id": "d_57WZcrdb-6"
      },
      "execution_count": null,
      "outputs": []
    },
    {
      "cell_type": "markdown",
      "source": [
        "We plan to develop a new attribute for our dataset that will indicate the time of day as \"light\" or \"dark\". This attribute will be based on sunrise and sunset statistics for Seoul. After introducing this attribute, we analyze the effect on the accuracy of our model's predictions to understand if this time factor is significant for the behavior or phenomena we are trying to predict"
      ],
      "metadata": {
        "id": "RMJN4LBPcolw"
      }
    },
    {
      "cell_type": "code",
      "source": [
        "def is_dark(date, hour):\n",
        "    sunset, sunrise = {\n",
        "        1: (17, 7),\n",
        "        2: (18, 7),\n",
        "        3: (18, 6),\n",
        "        4: (19, 6),\n",
        "        5: (19, 5),\n",
        "        6: (20, 5),\n",
        "        7: (20, 5),\n",
        "        8: (19, 6),\n",
        "        9: (19, 6),\n",
        "        10: (18, 7),\n",
        "        11: (17, 7),\n",
        "        12: (17, 7)\n",
        "    }.get(date.month, (None, None))\n",
        "\n",
        "    if sunset is not None:\n",
        "        return hour >= sunset or hour < sunrise\n",
        "    return False\n",
        "\n",
        "\n"
      ],
      "metadata": {
        "id": "9hw-rDHbd5fH"
      },
      "execution_count": null,
      "outputs": []
    },
    {
      "cell_type": "code",
      "source": [
        "df1['Times of Day'] = ['Dark' if is_dark(date, hour) else 'Light' for date, hour in zip(df1['Date'], df1['Hour'])]"
      ],
      "metadata": {
        "id": "UdzuC1_Bkx-o"
      },
      "execution_count": null,
      "outputs": []
    },
    {
      "cell_type": "code",
      "source": [
        "df1"
      ],
      "metadata": {
        "id": "fFjfhEosXTwc"
      },
      "execution_count": null,
      "outputs": []
    },
    {
      "cell_type": "code",
      "source": [
        "# Підрахунок кількості кожної категорії\n",
        "times_of_day_counts = df1['Times of Day'].value_counts()\n",
        "\n",
        "# Створення кругової діаграми\n",
        "plt.pie(x=times_of_day_counts, labels=times_of_day_counts.index, autopct='%1.1f%%', shadow=True, radius=1.5)\n"
      ],
      "metadata": {
        "id": "dbThK2W6V268"
      },
      "execution_count": null,
      "outputs": []
    },
    {
      "cell_type": "code",
      "source": [
        "df1.groupby('Times of Day').count()"
      ],
      "metadata": {
        "id": "hapWpsKrXs44"
      },
      "execution_count": null,
      "outputs": []
    },
    {
      "cell_type": "markdown",
      "source": [
        "Let's split the data column into three columns"
      ],
      "metadata": {
        "id": "7bF87SBvdjTw"
      }
    },
    {
      "cell_type": "code",
      "source": [
        "df1['Day'] = df1['Date'].dt.day\n",
        "df1['Month'] = df1['Date'].dt.month\n",
        "df1['Year'] = df1['Date'].dt.year\n",
        "\n",
        "df1 = df1.drop('Date',axis=1)"
      ],
      "metadata": {
        "id": "frh17m2xld-f"
      },
      "execution_count": null,
      "outputs": []
    },
    {
      "cell_type": "code",
      "source": [
        "df1.head()"
      ],
      "metadata": {
        "id": "ywWlfu8Wro80"
      },
      "execution_count": null,
      "outputs": []
    },
    {
      "cell_type": "code",
      "source": [
        "for i in df1.columns:\n",
        "    if df1[i].dtype == 'object':\n",
        "        print(i, df1[i].unique())\n",
        "        print('--------------')\n"
      ],
      "metadata": {
        "id": "IIPfqfohrp_K"
      },
      "execution_count": null,
      "outputs": []
    },
    {
      "cell_type": "markdown",
      "source": [
        "**Here our task is to code some features**"
      ],
      "metadata": {
        "id": "rTPS0k6Tdtg-"
      }
    },
    {
      "cell_type": "code",
      "source": [
        "df_cp = df1.copy()\n",
        "\n",
        "hot_col = ['Seasons','Holiday','Functioning Day','Times of Day']\n",
        "\n",
        "\n",
        "hot = pd.get_dummies(df1[hot_col])\n",
        "hot = hot.astype('float64')\n",
        "df_cp = df_cp.drop(hot_col,axis=1)\n",
        "df_cp = df_cp.join(hot)\n"
      ],
      "metadata": {
        "id": "qk14RXQ2sKFn"
      },
      "execution_count": null,
      "outputs": []
    },
    {
      "cell_type": "code",
      "source": [
        "df_cp.columns"
      ],
      "metadata": {
        "id": "DRC-yuGouB2l"
      },
      "execution_count": null,
      "outputs": []
    },
    {
      "cell_type": "code",
      "source": [
        "df1 = df_cp.copy()"
      ],
      "metadata": {
        "id": "-dmeAb4bzGvm"
      },
      "execution_count": null,
      "outputs": []
    },
    {
      "cell_type": "markdown",
      "source": [
        "## Features Select"
      ],
      "metadata": {
        "id": "ERJWBFRcmMRo"
      }
    },
    {
      "cell_type": "code",
      "source": [
        "y = df_cp['Rented Bike Count']\n",
        "\n",
        "df_cp.drop('Rented Bike Count',inplace=True,axis=1)\n",
        "\n",
        "X = df_cp"
      ],
      "metadata": {
        "id": "vznIvzgruNWD"
      },
      "execution_count": null,
      "outputs": []
    },
    {
      "cell_type": "code",
      "source": [
        "from xgboost import XGBRegressor\n",
        "\n",
        "\n",
        "model = XGBRegressor()\n",
        "\n",
        "model.fit(X, y)\n",
        "\n",
        "importance = model.feature_importances_\n",
        "\n",
        "features_importances = [(i, v) for i, v in enumerate(importance)]\n",
        "features_importances.sort(key=lambda x: x[1], reverse=True)\n",
        "\n",
        "\n",
        "for i, v in features_importances:\n",
        "    print('Feature: %d, Score: %.5f' % (i,v))\n",
        "\n",
        "plt.figure(figsize=(12,12))\n",
        "\n",
        "sorted_features = [X.columns[i] for i, _ in features_importances]\n",
        "sorted_importance = [v for _, v in features_importances]\n",
        "plt.bar(sorted_features, sorted_importance)\n",
        "plt.xticks(rotation=90)\n",
        "\n",
        "plt.show()"
      ],
      "metadata": {
        "id": "K8foq30W8K3Y"
      },
      "execution_count": null,
      "outputs": []
    },
    {
      "cell_type": "code",
      "source": [
        "from sklearn.feature_selection import RFE\n",
        "# here we want only one final feature, we do this to produce a ranking\n",
        "n_features_to_select = 10\n",
        "rfe = RFE(model, n_features_to_select=n_features_to_select)\n",
        "rfe.fit(X, y)\n",
        "\n",
        "\n",
        "from operator import itemgetter\n",
        "features = X.columns.to_list()\n",
        "for x, y in (sorted(zip(rfe.ranking_ , features), key=itemgetter(0))):\n",
        "    print(x, y)"
      ],
      "metadata": {
        "id": "rl_oiDBc0weH"
      },
      "execution_count": null,
      "outputs": []
    },
    {
      "cell_type": "code",
      "source": [
        "cor = df1.corr(numeric_only=True)\n",
        "\n",
        "\n",
        "plt.figure(figsize=(18, 13))\n",
        "\n",
        "sns.heatmap(cor, cmap='coolwarm', annot=True)\n",
        "\n"
      ],
      "metadata": {
        "id": "kZZyl5dt1NvY"
      },
      "execution_count": null,
      "outputs": []
    },
    {
      "cell_type": "code",
      "source": [
        "df1['Functioning Day_Yes'].dtype"
      ],
      "metadata": {
        "id": "nBCzielG9gF-"
      },
      "execution_count": null,
      "outputs": []
    },
    {
      "cell_type": "code",
      "source": [
        "df1.columns"
      ],
      "metadata": {
        "id": "hDyuT1uX-OXW"
      },
      "execution_count": null,
      "outputs": []
    },
    {
      "cell_type": "code",
      "source": [
        "df1 = df1[df1['Functioning Day_No'] != 1]"
      ],
      "metadata": {
        "id": "KebBuM3lN1Z4"
      },
      "execution_count": null,
      "outputs": []
    },
    {
      "cell_type": "code",
      "source": [
        "df1 = df1.copy()"
      ],
      "metadata": {
        "id": "OWUfr32ROv1h"
      },
      "execution_count": null,
      "outputs": []
    },
    {
      "cell_type": "markdown",
      "source": [
        "We can safely remove this feature from our data set because it is obvious to predict"
      ],
      "metadata": {
        "id": "cM29gQaWe1F5"
      }
    },
    {
      "cell_type": "code",
      "source": [
        "df1.drop(['Functioning Day_No', 'Functioning Day_Yes'],axis=1,inplace=True)"
      ],
      "metadata": {
        "id": "oM2-1_kZNYd_"
      },
      "execution_count": null,
      "outputs": []
    },
    {
      "cell_type": "code",
      "source": [
        "df1.shape"
      ],
      "metadata": {
        "id": "Qlqr66cnO1mu"
      },
      "execution_count": null,
      "outputs": []
    },
    {
      "cell_type": "code",
      "source": [
        "df1['Holiday_Holiday'].dtype"
      ],
      "metadata": {
        "id": "R_577yA7awVH"
      },
      "execution_count": null,
      "outputs": []
    },
    {
      "cell_type": "markdown",
      "source": [
        "After all the analysis using 3 feature selection methods, we can say that these features can be removed"
      ],
      "metadata": {
        "id": "NmTBzgQge-sd"
      }
    },
    {
      "cell_type": "code",
      "source": [
        "cols = ['Dew point temperature(°C)','Wind speed (m/s)','Visibility (10m)','Year','Times of Day_Dark','Times of Day_Light','Seasons_Autumn','Seasons_Spring','Seasons_Summer','Seasons_Winter']\n",
        "\n",
        "df1.drop(cols,inplace=True,axis=1)"
      ],
      "metadata": {
        "id": "A8rqL7o6c9fS"
      },
      "execution_count": null,
      "outputs": []
    },
    {
      "cell_type": "code",
      "source": [
        "df1.head()"
      ],
      "metadata": {
        "id": "4hiCb-_FxxgH"
      },
      "execution_count": null,
      "outputs": []
    },
    {
      "cell_type": "markdown",
      "source": [
        "## Model Building"
      ],
      "metadata": {
        "id": "X6-r6BtGUz_k"
      }
    },
    {
      "cell_type": "code",
      "source": [
        "y = df1['Rented Bike Count']\n",
        "df1.drop('Rented Bike Count',inplace=True,axis = 1)\n",
        "X = df1"
      ],
      "metadata": {
        "id": "qmgRwGM24S9q"
      },
      "execution_count": null,
      "outputs": []
    },
    {
      "cell_type": "markdown",
      "source": [],
      "metadata": {
        "id": "QUdc2CDxTq7C"
      }
    },
    {
      "cell_type": "code",
      "source": [
        "from sklearn.metrics import r2_score\n",
        "from sklearn.metrics import mean_squared_error\n",
        "from sklearn.metrics import mean_absolute_error"
      ],
      "metadata": {
        "id": "QFNns4zkYMrT"
      },
      "execution_count": null,
      "outputs": []
    },
    {
      "cell_type": "code",
      "source": [
        "from sklearn.model_selection import train_test_split\n",
        "import xgboost as xgb\n",
        "\n",
        "\n",
        "X_train, X_test, y_train, y_test = train_test_split(X, y, test_size=0.2, random_state=42)"
      ],
      "metadata": {
        "id": "1-5ASYbZQQHi"
      },
      "execution_count": null,
      "outputs": []
    },
    {
      "cell_type": "code",
      "source": [
        "\n",
        "print(X_train.shape)\n",
        "print(y_train.shape)\n",
        "print(X_test.shape)\n",
        "print(y_test.shape)"
      ],
      "metadata": {
        "id": "4ySocF54UesL"
      },
      "execution_count": null,
      "outputs": []
    },
    {
      "cell_type": "code",
      "source": [
        "regressor= XGBRegressor(eval_metric='rmse')"
      ],
      "metadata": {
        "id": "7kXybadKVG9E"
      },
      "execution_count": null,
      "outputs": []
    },
    {
      "cell_type": "code",
      "source": [
        "regressor"
      ],
      "metadata": {
        "id": "Yjel5SQoVcmk"
      },
      "execution_count": null,
      "outputs": []
    },
    {
      "cell_type": "code",
      "source": [
        "'''\n",
        "from sklearn.model_selection import GridSearchCV\n",
        "\n",
        "param_grid = {\"max_depth\": [10],\n",
        "              \"n_estimators\": [2000],\n",
        "              \"learning_rate\": [0.05],\n",
        "              \"reg_alpha\": [0.03,0.05,0.07],\n",
        "              \"reg_lambda\": [13,15,17],\n",
        "\n",
        "              }\n",
        "\n",
        "\n",
        "search = GridSearchCV(regressor, param_grid, cv=5,n_jobs=-1).fit(X_train, y_train)\n",
        "\n",
        "print(\"The best hyperparameters are \",search.best_params_)\n",
        "'''"
      ],
      "metadata": {
        "id": "k00iJQRiUxWE"
      },
      "execution_count": null,
      "outputs": []
    },
    {
      "cell_type": "code",
      "source": [
        "regressor= XGBRegressor(\n",
        "                          #learning_rate = search.best_params_[\"learning_rate\"],\n",
        "                          #n_estimators  = search.best_params_[\"n_estimators\"],\n",
        "                           #max_depth  = search.best_params_[\"max_depth\"],\n",
        "                           #reg_alpha =  search.best_params_[\"reg_alpha\"],\n",
        "                           #reg_lambda =  search.best_params_[\"reg_lambda\"],\n",
        "\n",
        "                          #MANUAL:\n",
        "\n",
        "                        learning_rate = 0.03,\n",
        "                          n_estimators  = 2000,\n",
        "                          max_depth     = 10,\n",
        "                          reg_alpha =  0.05,\n",
        "                          reg_lambda = 15 ,\n",
        "                          subsample = 0.7,\n",
        "                          random_state = 42,\n",
        "                           eval_metric='rmse')\n",
        "\n",
        "regressor.fit(X_train, y_train)"
      ],
      "metadata": {
        "id": "5JI1OosWVOzc"
      },
      "execution_count": null,
      "outputs": []
    },
    {
      "cell_type": "markdown",
      "source": [
        "Additional evaluation of the model by cross-validation for greater reliability"
      ],
      "metadata": {
        "id": "9vAZYpjUfb1U"
      }
    },
    {
      "cell_type": "code",
      "source": [
        "dtrain = xgb.DMatrix(X_train, label=y_train)"
      ],
      "metadata": {
        "id": "HhE3eq81gQVE"
      },
      "execution_count": null,
      "outputs": []
    },
    {
      "cell_type": "code",
      "source": [
        "params = {\n",
        "    'learning_rate': 0.03,\n",
        "    'max_depth': 10,\n",
        "    'reg_alpha': 0.05,\n",
        "    'reg_lambda': 15,\n",
        "    'subsample': 0.7,\n",
        "    'random_state': 42,\n",
        "    'eval_metric': 'rmse'\n",
        "}\n"
      ],
      "metadata": {
        "id": "ZoCA5FMzgP4s"
      },
      "execution_count": null,
      "outputs": []
    },
    {
      "cell_type": "code",
      "source": [
        "res = xgb.cv(\n",
        "    params,\n",
        "    dtrain,\n",
        "    num_boost_round=1000,\n",
        "    nfold=4,\n",
        "    metrics={\"rmse\"},\n",
        "    seed=0,\n",
        ")\n"
      ],
      "metadata": {
        "id": "urq4N9o1cBSd"
      },
      "execution_count": null,
      "outputs": []
    },
    {
      "cell_type": "code",
      "source": [
        "\n",
        "print(res)\n",
        "print(\"running cross validation, with preprocessing function\")\n"
      ],
      "metadata": {
        "id": "t9KzjDlJgXx3"
      },
      "execution_count": null,
      "outputs": []
    },
    {
      "cell_type": "code",
      "source": [
        "y_pred1 = regressor.predict(X_test)"
      ],
      "metadata": {
        "id": "yPHxWXHeVQpK"
      },
      "execution_count": null,
      "outputs": []
    },
    {
      "cell_type": "code",
      "source": [
        "def reg_eval(y_test,y_pred):\n",
        "  r2 = r2_score(y_test, y_pred)\n",
        "  rmse = np.sqrt(mean_squared_error(y_test, y_pred))\n",
        "  mse = mean_squared_error(y_test, y_pred)\n",
        "  mae = mean_absolute_error(y_test, y_pred)\n",
        "\n",
        "  print(\"R2 : %f\" % round((r2),3))\n",
        "  print(\"MAE : %f\" % round((mae),2))\n",
        "  print(\"RMSE : %f\" % round((rmse),2))\n",
        "  print(\"MSE : %f\" % round((mse),2))\n"
      ],
      "metadata": {
        "id": "UL6xIwx6YBX3"
      },
      "execution_count": null,
      "outputs": []
    },
    {
      "cell_type": "code",
      "source": [
        "reg_eval(y_test,y_pred1)"
      ],
      "metadata": {
        "id": "ipXueVxjaYXM"
      },
      "execution_count": null,
      "outputs": []
    },
    {
      "cell_type": "markdown",
      "source": [
        "Let's save our model in a pkl file"
      ],
      "metadata": {
        "id": "oT84_tRgfrRb"
      }
    },
    {
      "cell_type": "code",
      "source": [
        "import joblib\n",
        "file_name = 'regressor_bikes.pkl'\n",
        "joblib.dump(regressor, file_name)\n",
        "files.download(file_name)"
      ],
      "metadata": {
        "id": "V1m3iebC8yQ4"
      },
      "execution_count": null,
      "outputs": []
    },
    {
      "cell_type": "code",
      "source": [],
      "metadata": {
        "id": "LTGI2U0bQU3Z"
      },
      "execution_count": null,
      "outputs": []
    },
    {
      "cell_type": "code",
      "source": [],
      "metadata": {
        "id": "n3DrWTVeh-JW"
      },
      "execution_count": null,
      "outputs": []
    }
  ]
}